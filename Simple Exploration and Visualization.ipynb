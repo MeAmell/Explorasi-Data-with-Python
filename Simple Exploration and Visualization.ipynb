{
  "nbformat": 4,
  "nbformat_minor": 0,
  "metadata": {
    "colab": {
      "provenance": []
    },
    "kernelspec": {
      "name": "python3",
      "display_name": "Python 3"
    },
    "language_info": {
      "name": "python"
    }
  },
  "cells": [
    {
      "cell_type": "markdown",
      "source": [
        "Import library-library yang digunakan"
      ],
      "metadata": {
        "id": "ZTPrXmTk_4Ik"
      }
    },
    {
      "cell_type": "code",
      "execution_count": 1,
      "metadata": {
        "id": "4iecRsRUMJUM"
      },
      "outputs": [],
      "source": [
        "import pandas as pd\n",
        "import numpy as np\n",
        "import matplotlib.pyplot as plt\n",
        "import sklearn\n",
        "import scipy\n",
        "import datetime\n",
        "import seaborn as sns"
      ]
    },
    {
      "cell_type": "markdown",
      "source": [
        "Membaca dataset, menampilkan jumlah kolom dan baris data, dan menampilkan 20 data teratas"
      ],
      "metadata": {
        "id": "LpXtxG7nAEsk"
      }
    },
    {
      "cell_type": "code",
      "source": [
        "#baca dataset\n",
        "df = pd.read_csv('supermarket_sales - Sheet1.csv')\n",
        "\n",
        "\n",
        "#melihat data\n",
        "print(df.shape)\n",
        "print(df.head(20))\n",
        "print(df.describe())"
      ],
      "metadata": {
        "colab": {
          "base_uri": "https://localhost:8080/"
        },
        "id": "euj27Es2MO9L",
        "outputId": "9f6982d7-3f93-444e-ba76-e0827e9c5e59"
      },
      "execution_count": 2,
      "outputs": [
        {
          "output_type": "stream",
          "name": "stdout",
          "text": [
            "(1000, 17)\n",
            "     Invoice ID Branch       City Customer type  Gender  \\\n",
            "0   750-67-8428      A     Yangon        Member  Female   \n",
            "1   226-31-3081      C  Naypyitaw        Normal  Female   \n",
            "2   631-41-3108      A     Yangon        Normal    Male   \n",
            "3   123-19-1176      A     Yangon        Member    Male   \n",
            "4   373-73-7910      A     Yangon        Normal    Male   \n",
            "5   699-14-3026      C  Naypyitaw        Normal    Male   \n",
            "6   355-53-5943      A     Yangon        Member  Female   \n",
            "7   315-22-5665      C  Naypyitaw        Normal  Female   \n",
            "8   665-32-9167      A     Yangon        Member  Female   \n",
            "9   692-92-5582      B   Mandalay        Member  Female   \n",
            "10  351-62-0822      B   Mandalay        Member  Female   \n",
            "11  529-56-3974      B   Mandalay        Member    Male   \n",
            "12  365-64-0515      A     Yangon        Normal  Female   \n",
            "13  252-56-2699      A     Yangon        Normal    Male   \n",
            "14  829-34-3910      A     Yangon        Normal  Female   \n",
            "15  299-46-1805      B   Mandalay        Member  Female   \n",
            "16  656-95-9349      A     Yangon        Member  Female   \n",
            "17  765-26-6951      A     Yangon        Normal    Male   \n",
            "18  329-62-1586      A     Yangon        Normal    Male   \n",
            "19  319-50-3348      B   Mandalay        Normal  Female   \n",
            "\n",
            "              Product line  Unit price  Quantity   Tax 5%     Total  \\\n",
            "0        Health and beauty       74.69         7  26.1415  548.9715   \n",
            "1   Electronic accessories       15.28         5   3.8200   80.2200   \n",
            "2       Home and lifestyle       46.33         7  16.2155  340.5255   \n",
            "3        Health and beauty       58.22         8  23.2880  489.0480   \n",
            "4        Sports and travel       86.31         7  30.2085  634.3785   \n",
            "5   Electronic accessories       85.39         7  29.8865  627.6165   \n",
            "6   Electronic accessories       68.84         6  20.6520  433.6920   \n",
            "7       Home and lifestyle       73.56        10  36.7800  772.3800   \n",
            "8        Health and beauty       36.26         2   3.6260   76.1460   \n",
            "9       Food and beverages       54.84         3   8.2260  172.7460   \n",
            "10     Fashion accessories       14.48         4   2.8960   60.8160   \n",
            "11  Electronic accessories       25.51         4   5.1020  107.1420   \n",
            "12  Electronic accessories       46.95         5  11.7375  246.4875   \n",
            "13      Food and beverages       43.19        10  21.5950  453.4950   \n",
            "14       Health and beauty       71.38        10  35.6900  749.4900   \n",
            "15       Sports and travel       93.72         6  28.1160  590.4360   \n",
            "16       Health and beauty       68.93         7  24.1255  506.6355   \n",
            "17       Sports and travel       72.61         6  21.7830  457.4430   \n",
            "18      Food and beverages       54.67         3   8.2005  172.2105   \n",
            "19      Home and lifestyle       40.30         2   4.0300   84.6300   \n",
            "\n",
            "         Date   Time      Payment    cogs  gross margin percentage  \\\n",
            "0    1/5/2019  13:08      Ewallet  522.83                 4.761905   \n",
            "1    3/8/2019  10:29         Cash   76.40                 4.761905   \n",
            "2    3/3/2019  13:23  Credit card  324.31                 4.761905   \n",
            "3   1/27/2019  20:33      Ewallet  465.76                 4.761905   \n",
            "4    2/8/2019  10:37      Ewallet  604.17                 4.761905   \n",
            "5   3/25/2019  18:30      Ewallet  597.73                 4.761905   \n",
            "6   2/25/2019  14:36      Ewallet  413.04                 4.761905   \n",
            "7   2/24/2019  11:38      Ewallet  735.60                 4.761905   \n",
            "8   1/10/2019  17:15  Credit card   72.52                 4.761905   \n",
            "9   2/20/2019  13:27  Credit card  164.52                 4.761905   \n",
            "10   2/6/2019  18:07      Ewallet   57.92                 4.761905   \n",
            "11   3/9/2019  17:03         Cash  102.04                 4.761905   \n",
            "12  2/12/2019  10:25      Ewallet  234.75                 4.761905   \n",
            "13   2/7/2019  16:48      Ewallet  431.90                 4.761905   \n",
            "14  3/29/2019  19:21         Cash  713.80                 4.761905   \n",
            "15  1/15/2019  16:19         Cash  562.32                 4.761905   \n",
            "16  3/11/2019  11:03  Credit card  482.51                 4.761905   \n",
            "17   1/1/2019  10:39  Credit card  435.66                 4.761905   \n",
            "18  1/21/2019  18:00  Credit card  164.01                 4.761905   \n",
            "19  3/11/2019  15:30      Ewallet   80.60                 4.761905   \n",
            "\n",
            "    gross income  Rating  \n",
            "0        26.1415     9.1  \n",
            "1         3.8200     9.6  \n",
            "2        16.2155     7.4  \n",
            "3        23.2880     8.4  \n",
            "4        30.2085     5.3  \n",
            "5        29.8865     4.1  \n",
            "6        20.6520     5.8  \n",
            "7        36.7800     8.0  \n",
            "8         3.6260     7.2  \n",
            "9         8.2260     5.9  \n",
            "10        2.8960     4.5  \n",
            "11        5.1020     6.8  \n",
            "12       11.7375     7.1  \n",
            "13       21.5950     8.2  \n",
            "14       35.6900     5.7  \n",
            "15       28.1160     4.5  \n",
            "16       24.1255     4.6  \n",
            "17       21.7830     6.9  \n",
            "18        8.2005     8.6  \n",
            "19        4.0300     4.4  \n",
            "        Unit price     Quantity       Tax 5%        Total        cogs  \\\n",
            "count  1000.000000  1000.000000  1000.000000  1000.000000  1000.00000   \n",
            "mean     55.672130     5.510000    15.379369   322.966749   307.58738   \n",
            "std      26.494628     2.923431    11.708825   245.885335   234.17651   \n",
            "min      10.080000     1.000000     0.508500    10.678500    10.17000   \n",
            "25%      32.875000     3.000000     5.924875   124.422375   118.49750   \n",
            "50%      55.230000     5.000000    12.088000   253.848000   241.76000   \n",
            "75%      77.935000     8.000000    22.445250   471.350250   448.90500   \n",
            "max      99.960000    10.000000    49.650000  1042.650000   993.00000   \n",
            "\n",
            "       gross margin percentage  gross income      Rating  \n",
            "count              1000.000000   1000.000000  1000.00000  \n",
            "mean                  4.761905     15.379369     6.97270  \n",
            "std                   0.000000     11.708825     1.71858  \n",
            "min                   4.761905      0.508500     4.00000  \n",
            "25%                   4.761905      5.924875     5.50000  \n",
            "50%                   4.761905     12.088000     7.00000  \n",
            "75%                   4.761905     22.445250     8.50000  \n",
            "max                   4.761905     49.650000    10.00000  \n"
          ]
        }
      ]
    },
    {
      "cell_type": "markdown",
      "source": [
        "Dari info data didapatkan, bahwa data ini tidak mempunyai missing value"
      ],
      "metadata": {
        "id": "SusJsxaRBFbj"
      }
    },
    {
      "cell_type": "code",
      "source": [
        "df.info()"
      ],
      "metadata": {
        "colab": {
          "base_uri": "https://localhost:8080/"
        },
        "id": "9Hc-56jrcdGL",
        "outputId": "98f9a2ef-6e4e-4d20-9ebc-56b13287b4ed"
      },
      "execution_count": 3,
      "outputs": [
        {
          "output_type": "stream",
          "name": "stdout",
          "text": [
            "<class 'pandas.core.frame.DataFrame'>\n",
            "RangeIndex: 1000 entries, 0 to 999\n",
            "Data columns (total 17 columns):\n",
            " #   Column                   Non-Null Count  Dtype  \n",
            "---  ------                   --------------  -----  \n",
            " 0   Invoice ID               1000 non-null   object \n",
            " 1   Branch                   1000 non-null   object \n",
            " 2   City                     1000 non-null   object \n",
            " 3   Customer type            1000 non-null   object \n",
            " 4   Gender                   1000 non-null   object \n",
            " 5   Product line             1000 non-null   object \n",
            " 6   Unit price               1000 non-null   float64\n",
            " 7   Quantity                 1000 non-null   int64  \n",
            " 8   Tax 5%                   1000 non-null   float64\n",
            " 9   Total                    1000 non-null   float64\n",
            " 10  Date                     1000 non-null   object \n",
            " 11  Time                     1000 non-null   object \n",
            " 12  Payment                  1000 non-null   object \n",
            " 13  cogs                     1000 non-null   float64\n",
            " 14  gross margin percentage  1000 non-null   float64\n",
            " 15  gross income             1000 non-null   float64\n",
            " 16  Rating                   1000 non-null   float64\n",
            "dtypes: float64(7), int64(1), object(9)\n",
            "memory usage: 132.9+ KB\n"
          ]
        }
      ]
    },
    {
      "cell_type": "code",
      "source": [
        "#cek for missing value\n",
        "df.isnull().sum()"
      ],
      "metadata": {
        "id": "OKbQAK0gNWvh",
        "colab": {
          "base_uri": "https://localhost:8080/"
        },
        "outputId": "661ca31d-2639-4609-eb6b-56808abcd86c"
      },
      "execution_count": 4,
      "outputs": [
        {
          "output_type": "execute_result",
          "data": {
            "text/plain": [
              "Invoice ID                 0\n",
              "Branch                     0\n",
              "City                       0\n",
              "Customer type              0\n",
              "Gender                     0\n",
              "Product line               0\n",
              "Unit price                 0\n",
              "Quantity                   0\n",
              "Tax 5%                     0\n",
              "Total                      0\n",
              "Date                       0\n",
              "Time                       0\n",
              "Payment                    0\n",
              "cogs                       0\n",
              "gross margin percentage    0\n",
              "gross income               0\n",
              "Rating                     0\n",
              "dtype: int64"
            ]
          },
          "metadata": {},
          "execution_count": 4
        }
      ]
    },
    {
      "cell_type": "markdown",
      "source": [
        "# Analisis"
      ],
      "metadata": {
        "id": "yoKkFsFhV2Gn"
      }
    },
    {
      "cell_type": "markdown",
      "source": [
        "pertama disini kita lihat quantity maksimal yang dibeli oleh customer"
      ],
      "metadata": {
        "id": "DbugYH2443YO"
      }
    },
    {
      "cell_type": "code",
      "source": [
        "#melihat quantity tertinggi\n",
        "df[df['Quantity'] == df['Quantity'].max()]"
      ],
      "metadata": {
        "id": "E3YhXlWlWGIJ",
        "colab": {
          "base_uri": "https://localhost:8080/",
          "height": 659
        },
        "outputId": "3970c9a1-14e0-4788-b5b3-0e72a8b896da"
      },
      "execution_count": 5,
      "outputs": [
        {
          "output_type": "execute_result",
          "data": {
            "text/plain": [
              "      Invoice ID Branch       City Customer type  Gender  \\\n",
              "7    315-22-5665      C  Naypyitaw        Normal  Female   \n",
              "13   252-56-2699      A     Yangon        Normal    Male   \n",
              "14   829-34-3910      A     Yangon        Normal  Female   \n",
              "49   574-22-5561      C  Naypyitaw        Member  Female   \n",
              "58   817-48-8732      A     Yangon        Member  Female   \n",
              "..           ...    ...        ...           ...     ...   \n",
              "970  746-04-1077      B   Mandalay        Member  Female   \n",
              "988  267-62-7380      C  Naypyitaw        Member    Male   \n",
              "991  602-16-6955      B   Mandalay        Normal  Female   \n",
              "993  690-01-6631      B   Mandalay        Normal    Male   \n",
              "996  303-96-2227      B   Mandalay        Normal  Female   \n",
              "\n",
              "               Product line  Unit price  Quantity  Tax 5%     Total  \\\n",
              "7        Home and lifestyle       73.56        10  36.780   772.380   \n",
              "13       Food and beverages       43.19        10  21.595   453.495   \n",
              "14        Health and beauty       71.38        10  35.690   749.490   \n",
              "49      Fashion accessories       82.63        10  41.315   867.615   \n",
              "58       Home and lifestyle       72.35        10  36.175   759.675   \n",
              "..                      ...         ...       ...     ...       ...   \n",
              "970      Food and beverages       84.63        10  42.315   888.615   \n",
              "988  Electronic accessories       82.34        10  41.170   864.570   \n",
              "991       Sports and travel       76.60        10  38.300   804.300   \n",
              "993     Fashion accessories       17.49        10   8.745   183.645   \n",
              "996      Home and lifestyle       97.38        10  48.690  1022.490   \n",
              "\n",
              "          Date   Time      Payment   cogs  gross margin percentage  \\\n",
              "7    2/24/2019  11:38      Ewallet  735.6                 4.761905   \n",
              "13    2/7/2019  16:48      Ewallet  431.9                 4.761905   \n",
              "14   3/29/2019  19:21         Cash  713.8                 4.761905   \n",
              "49   3/19/2019  17:08      Ewallet  826.3                 4.761905   \n",
              "58   1/20/2019  15:55         Cash  723.5                 4.761905   \n",
              "..         ...    ...          ...    ...                      ...   \n",
              "970   1/1/2019  11:36  Credit card  846.3                 4.761905   \n",
              "988  3/29/2019  19:12      Ewallet  823.4                 4.761905   \n",
              "991  1/24/2019  18:10      Ewallet  766.0                 4.761905   \n",
              "993  2/22/2019  18:35      Ewallet  174.9                 4.761905   \n",
              "996   3/2/2019  17:16      Ewallet  973.8                 4.761905   \n",
              "\n",
              "     gross income  Rating  \n",
              "7          36.780     8.0  \n",
              "13         21.595     8.2  \n",
              "14         35.690     5.7  \n",
              "49         41.315     7.9  \n",
              "58         36.175     5.4  \n",
              "..            ...     ...  \n",
              "970        42.315     9.0  \n",
              "988        41.170     4.3  \n",
              "991        38.300     6.0  \n",
              "993         8.745     6.6  \n",
              "996        48.690     4.4  \n",
              "\n",
              "[119 rows x 17 columns]"
            ],
            "text/html": [
              "\n",
              "  <div id=\"df-c2100eb9-51d9-4bd5-b7b4-cd174c79ad90\">\n",
              "    <div class=\"colab-df-container\">\n",
              "      <div>\n",
              "<style scoped>\n",
              "    .dataframe tbody tr th:only-of-type {\n",
              "        vertical-align: middle;\n",
              "    }\n",
              "\n",
              "    .dataframe tbody tr th {\n",
              "        vertical-align: top;\n",
              "    }\n",
              "\n",
              "    .dataframe thead th {\n",
              "        text-align: right;\n",
              "    }\n",
              "</style>\n",
              "<table border=\"1\" class=\"dataframe\">\n",
              "  <thead>\n",
              "    <tr style=\"text-align: right;\">\n",
              "      <th></th>\n",
              "      <th>Invoice ID</th>\n",
              "      <th>Branch</th>\n",
              "      <th>City</th>\n",
              "      <th>Customer type</th>\n",
              "      <th>Gender</th>\n",
              "      <th>Product line</th>\n",
              "      <th>Unit price</th>\n",
              "      <th>Quantity</th>\n",
              "      <th>Tax 5%</th>\n",
              "      <th>Total</th>\n",
              "      <th>Date</th>\n",
              "      <th>Time</th>\n",
              "      <th>Payment</th>\n",
              "      <th>cogs</th>\n",
              "      <th>gross margin percentage</th>\n",
              "      <th>gross income</th>\n",
              "      <th>Rating</th>\n",
              "    </tr>\n",
              "  </thead>\n",
              "  <tbody>\n",
              "    <tr>\n",
              "      <th>7</th>\n",
              "      <td>315-22-5665</td>\n",
              "      <td>C</td>\n",
              "      <td>Naypyitaw</td>\n",
              "      <td>Normal</td>\n",
              "      <td>Female</td>\n",
              "      <td>Home and lifestyle</td>\n",
              "      <td>73.56</td>\n",
              "      <td>10</td>\n",
              "      <td>36.780</td>\n",
              "      <td>772.380</td>\n",
              "      <td>2/24/2019</td>\n",
              "      <td>11:38</td>\n",
              "      <td>Ewallet</td>\n",
              "      <td>735.6</td>\n",
              "      <td>4.761905</td>\n",
              "      <td>36.780</td>\n",
              "      <td>8.0</td>\n",
              "    </tr>\n",
              "    <tr>\n",
              "      <th>13</th>\n",
              "      <td>252-56-2699</td>\n",
              "      <td>A</td>\n",
              "      <td>Yangon</td>\n",
              "      <td>Normal</td>\n",
              "      <td>Male</td>\n",
              "      <td>Food and beverages</td>\n",
              "      <td>43.19</td>\n",
              "      <td>10</td>\n",
              "      <td>21.595</td>\n",
              "      <td>453.495</td>\n",
              "      <td>2/7/2019</td>\n",
              "      <td>16:48</td>\n",
              "      <td>Ewallet</td>\n",
              "      <td>431.9</td>\n",
              "      <td>4.761905</td>\n",
              "      <td>21.595</td>\n",
              "      <td>8.2</td>\n",
              "    </tr>\n",
              "    <tr>\n",
              "      <th>14</th>\n",
              "      <td>829-34-3910</td>\n",
              "      <td>A</td>\n",
              "      <td>Yangon</td>\n",
              "      <td>Normal</td>\n",
              "      <td>Female</td>\n",
              "      <td>Health and beauty</td>\n",
              "      <td>71.38</td>\n",
              "      <td>10</td>\n",
              "      <td>35.690</td>\n",
              "      <td>749.490</td>\n",
              "      <td>3/29/2019</td>\n",
              "      <td>19:21</td>\n",
              "      <td>Cash</td>\n",
              "      <td>713.8</td>\n",
              "      <td>4.761905</td>\n",
              "      <td>35.690</td>\n",
              "      <td>5.7</td>\n",
              "    </tr>\n",
              "    <tr>\n",
              "      <th>49</th>\n",
              "      <td>574-22-5561</td>\n",
              "      <td>C</td>\n",
              "      <td>Naypyitaw</td>\n",
              "      <td>Member</td>\n",
              "      <td>Female</td>\n",
              "      <td>Fashion accessories</td>\n",
              "      <td>82.63</td>\n",
              "      <td>10</td>\n",
              "      <td>41.315</td>\n",
              "      <td>867.615</td>\n",
              "      <td>3/19/2019</td>\n",
              "      <td>17:08</td>\n",
              "      <td>Ewallet</td>\n",
              "      <td>826.3</td>\n",
              "      <td>4.761905</td>\n",
              "      <td>41.315</td>\n",
              "      <td>7.9</td>\n",
              "    </tr>\n",
              "    <tr>\n",
              "      <th>58</th>\n",
              "      <td>817-48-8732</td>\n",
              "      <td>A</td>\n",
              "      <td>Yangon</td>\n",
              "      <td>Member</td>\n",
              "      <td>Female</td>\n",
              "      <td>Home and lifestyle</td>\n",
              "      <td>72.35</td>\n",
              "      <td>10</td>\n",
              "      <td>36.175</td>\n",
              "      <td>759.675</td>\n",
              "      <td>1/20/2019</td>\n",
              "      <td>15:55</td>\n",
              "      <td>Cash</td>\n",
              "      <td>723.5</td>\n",
              "      <td>4.761905</td>\n",
              "      <td>36.175</td>\n",
              "      <td>5.4</td>\n",
              "    </tr>\n",
              "    <tr>\n",
              "      <th>...</th>\n",
              "      <td>...</td>\n",
              "      <td>...</td>\n",
              "      <td>...</td>\n",
              "      <td>...</td>\n",
              "      <td>...</td>\n",
              "      <td>...</td>\n",
              "      <td>...</td>\n",
              "      <td>...</td>\n",
              "      <td>...</td>\n",
              "      <td>...</td>\n",
              "      <td>...</td>\n",
              "      <td>...</td>\n",
              "      <td>...</td>\n",
              "      <td>...</td>\n",
              "      <td>...</td>\n",
              "      <td>...</td>\n",
              "      <td>...</td>\n",
              "    </tr>\n",
              "    <tr>\n",
              "      <th>970</th>\n",
              "      <td>746-04-1077</td>\n",
              "      <td>B</td>\n",
              "      <td>Mandalay</td>\n",
              "      <td>Member</td>\n",
              "      <td>Female</td>\n",
              "      <td>Food and beverages</td>\n",
              "      <td>84.63</td>\n",
              "      <td>10</td>\n",
              "      <td>42.315</td>\n",
              "      <td>888.615</td>\n",
              "      <td>1/1/2019</td>\n",
              "      <td>11:36</td>\n",
              "      <td>Credit card</td>\n",
              "      <td>846.3</td>\n",
              "      <td>4.761905</td>\n",
              "      <td>42.315</td>\n",
              "      <td>9.0</td>\n",
              "    </tr>\n",
              "    <tr>\n",
              "      <th>988</th>\n",
              "      <td>267-62-7380</td>\n",
              "      <td>C</td>\n",
              "      <td>Naypyitaw</td>\n",
              "      <td>Member</td>\n",
              "      <td>Male</td>\n",
              "      <td>Electronic accessories</td>\n",
              "      <td>82.34</td>\n",
              "      <td>10</td>\n",
              "      <td>41.170</td>\n",
              "      <td>864.570</td>\n",
              "      <td>3/29/2019</td>\n",
              "      <td>19:12</td>\n",
              "      <td>Ewallet</td>\n",
              "      <td>823.4</td>\n",
              "      <td>4.761905</td>\n",
              "      <td>41.170</td>\n",
              "      <td>4.3</td>\n",
              "    </tr>\n",
              "    <tr>\n",
              "      <th>991</th>\n",
              "      <td>602-16-6955</td>\n",
              "      <td>B</td>\n",
              "      <td>Mandalay</td>\n",
              "      <td>Normal</td>\n",
              "      <td>Female</td>\n",
              "      <td>Sports and travel</td>\n",
              "      <td>76.60</td>\n",
              "      <td>10</td>\n",
              "      <td>38.300</td>\n",
              "      <td>804.300</td>\n",
              "      <td>1/24/2019</td>\n",
              "      <td>18:10</td>\n",
              "      <td>Ewallet</td>\n",
              "      <td>766.0</td>\n",
              "      <td>4.761905</td>\n",
              "      <td>38.300</td>\n",
              "      <td>6.0</td>\n",
              "    </tr>\n",
              "    <tr>\n",
              "      <th>993</th>\n",
              "      <td>690-01-6631</td>\n",
              "      <td>B</td>\n",
              "      <td>Mandalay</td>\n",
              "      <td>Normal</td>\n",
              "      <td>Male</td>\n",
              "      <td>Fashion accessories</td>\n",
              "      <td>17.49</td>\n",
              "      <td>10</td>\n",
              "      <td>8.745</td>\n",
              "      <td>183.645</td>\n",
              "      <td>2/22/2019</td>\n",
              "      <td>18:35</td>\n",
              "      <td>Ewallet</td>\n",
              "      <td>174.9</td>\n",
              "      <td>4.761905</td>\n",
              "      <td>8.745</td>\n",
              "      <td>6.6</td>\n",
              "    </tr>\n",
              "    <tr>\n",
              "      <th>996</th>\n",
              "      <td>303-96-2227</td>\n",
              "      <td>B</td>\n",
              "      <td>Mandalay</td>\n",
              "      <td>Normal</td>\n",
              "      <td>Female</td>\n",
              "      <td>Home and lifestyle</td>\n",
              "      <td>97.38</td>\n",
              "      <td>10</td>\n",
              "      <td>48.690</td>\n",
              "      <td>1022.490</td>\n",
              "      <td>3/2/2019</td>\n",
              "      <td>17:16</td>\n",
              "      <td>Ewallet</td>\n",
              "      <td>973.8</td>\n",
              "      <td>4.761905</td>\n",
              "      <td>48.690</td>\n",
              "      <td>4.4</td>\n",
              "    </tr>\n",
              "  </tbody>\n",
              "</table>\n",
              "<p>119 rows × 17 columns</p>\n",
              "</div>\n",
              "      <button class=\"colab-df-convert\" onclick=\"convertToInteractive('df-c2100eb9-51d9-4bd5-b7b4-cd174c79ad90')\"\n",
              "              title=\"Convert this dataframe to an interactive table.\"\n",
              "              style=\"display:none;\">\n",
              "        \n",
              "  <svg xmlns=\"http://www.w3.org/2000/svg\" height=\"24px\"viewBox=\"0 0 24 24\"\n",
              "       width=\"24px\">\n",
              "    <path d=\"M0 0h24v24H0V0z\" fill=\"none\"/>\n",
              "    <path d=\"M18.56 5.44l.94 2.06.94-2.06 2.06-.94-2.06-.94-.94-2.06-.94 2.06-2.06.94zm-11 1L8.5 8.5l.94-2.06 2.06-.94-2.06-.94L8.5 2.5l-.94 2.06-2.06.94zm10 10l.94 2.06.94-2.06 2.06-.94-2.06-.94-.94-2.06-.94 2.06-2.06.94z\"/><path d=\"M17.41 7.96l-1.37-1.37c-.4-.4-.92-.59-1.43-.59-.52 0-1.04.2-1.43.59L10.3 9.45l-7.72 7.72c-.78.78-.78 2.05 0 2.83L4 21.41c.39.39.9.59 1.41.59.51 0 1.02-.2 1.41-.59l7.78-7.78 2.81-2.81c.8-.78.8-2.07 0-2.86zM5.41 20L4 18.59l7.72-7.72 1.47 1.35L5.41 20z\"/>\n",
              "  </svg>\n",
              "      </button>\n",
              "      \n",
              "  <style>\n",
              "    .colab-df-container {\n",
              "      display:flex;\n",
              "      flex-wrap:wrap;\n",
              "      gap: 12px;\n",
              "    }\n",
              "\n",
              "    .colab-df-convert {\n",
              "      background-color: #E8F0FE;\n",
              "      border: none;\n",
              "      border-radius: 50%;\n",
              "      cursor: pointer;\n",
              "      display: none;\n",
              "      fill: #1967D2;\n",
              "      height: 32px;\n",
              "      padding: 0 0 0 0;\n",
              "      width: 32px;\n",
              "    }\n",
              "\n",
              "    .colab-df-convert:hover {\n",
              "      background-color: #E2EBFA;\n",
              "      box-shadow: 0px 1px 2px rgba(60, 64, 67, 0.3), 0px 1px 3px 1px rgba(60, 64, 67, 0.15);\n",
              "      fill: #174EA6;\n",
              "    }\n",
              "\n",
              "    [theme=dark] .colab-df-convert {\n",
              "      background-color: #3B4455;\n",
              "      fill: #D2E3FC;\n",
              "    }\n",
              "\n",
              "    [theme=dark] .colab-df-convert:hover {\n",
              "      background-color: #434B5C;\n",
              "      box-shadow: 0px 1px 3px 1px rgba(0, 0, 0, 0.15);\n",
              "      filter: drop-shadow(0px 1px 2px rgba(0, 0, 0, 0.3));\n",
              "      fill: #FFFFFF;\n",
              "    }\n",
              "  </style>\n",
              "\n",
              "      <script>\n",
              "        const buttonEl =\n",
              "          document.querySelector('#df-c2100eb9-51d9-4bd5-b7b4-cd174c79ad90 button.colab-df-convert');\n",
              "        buttonEl.style.display =\n",
              "          google.colab.kernel.accessAllowed ? 'block' : 'none';\n",
              "\n",
              "        async function convertToInteractive(key) {\n",
              "          const element = document.querySelector('#df-c2100eb9-51d9-4bd5-b7b4-cd174c79ad90');\n",
              "          const dataTable =\n",
              "            await google.colab.kernel.invokeFunction('convertToInteractive',\n",
              "                                                     [key], {});\n",
              "          if (!dataTable) return;\n",
              "\n",
              "          const docLinkHtml = 'Like what you see? Visit the ' +\n",
              "            '<a target=\"_blank\" href=https://colab.research.google.com/notebooks/data_table.ipynb>data table notebook</a>'\n",
              "            + ' to learn more about interactive tables.';\n",
              "          element.innerHTML = '';\n",
              "          dataTable['output_type'] = 'display_data';\n",
              "          await google.colab.output.renderOutput(dataTable, element);\n",
              "          const docLink = document.createElement('div');\n",
              "          docLink.innerHTML = docLinkHtml;\n",
              "          element.appendChild(docLink);\n",
              "        }\n",
              "      </script>\n",
              "    </div>\n",
              "  </div>\n",
              "  "
            ]
          },
          "metadata": {},
          "execution_count": 5
        }
      ]
    },
    {
      "cell_type": "markdown",
      "source": [
        "Untuk menganalisis penjualan dari setiap Branch kita pisahkan atau kita group tabel Branch dengan Quantity"
      ],
      "metadata": {
        "id": "4EVrk9C05Ans"
      }
    },
    {
      "cell_type": "code",
      "source": [
        "#untuk menganalisis penjualan memisahkan mengambil tabel Branch dan Quantity\n",
        "penjualan = df[['Branch','Quantity']]\n",
        "\n",
        "branch = ['A','B','C']\n",
        "penjualan = penjualan[ penjualan['Branch'].isin(branch)  ]\n",
        "\n",
        "penjualan"
      ],
      "metadata": {
        "id": "6GXvPqSDYBNs",
        "colab": {
          "base_uri": "https://localhost:8080/",
          "height": 424
        },
        "outputId": "de001515-4742-4b64-bee3-a473cb1fc48e"
      },
      "execution_count": 6,
      "outputs": [
        {
          "output_type": "execute_result",
          "data": {
            "text/plain": [
              "    Branch  Quantity\n",
              "0        A         7\n",
              "1        C         5\n",
              "2        A         7\n",
              "3        A         8\n",
              "4        A         7\n",
              "..     ...       ...\n",
              "995      C         1\n",
              "996      B        10\n",
              "997      A         1\n",
              "998      A         1\n",
              "999      A         7\n",
              "\n",
              "[1000 rows x 2 columns]"
            ],
            "text/html": [
              "\n",
              "  <div id=\"df-fc287fb7-8a15-434f-ab9b-ba1058f55afe\">\n",
              "    <div class=\"colab-df-container\">\n",
              "      <div>\n",
              "<style scoped>\n",
              "    .dataframe tbody tr th:only-of-type {\n",
              "        vertical-align: middle;\n",
              "    }\n",
              "\n",
              "    .dataframe tbody tr th {\n",
              "        vertical-align: top;\n",
              "    }\n",
              "\n",
              "    .dataframe thead th {\n",
              "        text-align: right;\n",
              "    }\n",
              "</style>\n",
              "<table border=\"1\" class=\"dataframe\">\n",
              "  <thead>\n",
              "    <tr style=\"text-align: right;\">\n",
              "      <th></th>\n",
              "      <th>Branch</th>\n",
              "      <th>Quantity</th>\n",
              "    </tr>\n",
              "  </thead>\n",
              "  <tbody>\n",
              "    <tr>\n",
              "      <th>0</th>\n",
              "      <td>A</td>\n",
              "      <td>7</td>\n",
              "    </tr>\n",
              "    <tr>\n",
              "      <th>1</th>\n",
              "      <td>C</td>\n",
              "      <td>5</td>\n",
              "    </tr>\n",
              "    <tr>\n",
              "      <th>2</th>\n",
              "      <td>A</td>\n",
              "      <td>7</td>\n",
              "    </tr>\n",
              "    <tr>\n",
              "      <th>3</th>\n",
              "      <td>A</td>\n",
              "      <td>8</td>\n",
              "    </tr>\n",
              "    <tr>\n",
              "      <th>4</th>\n",
              "      <td>A</td>\n",
              "      <td>7</td>\n",
              "    </tr>\n",
              "    <tr>\n",
              "      <th>...</th>\n",
              "      <td>...</td>\n",
              "      <td>...</td>\n",
              "    </tr>\n",
              "    <tr>\n",
              "      <th>995</th>\n",
              "      <td>C</td>\n",
              "      <td>1</td>\n",
              "    </tr>\n",
              "    <tr>\n",
              "      <th>996</th>\n",
              "      <td>B</td>\n",
              "      <td>10</td>\n",
              "    </tr>\n",
              "    <tr>\n",
              "      <th>997</th>\n",
              "      <td>A</td>\n",
              "      <td>1</td>\n",
              "    </tr>\n",
              "    <tr>\n",
              "      <th>998</th>\n",
              "      <td>A</td>\n",
              "      <td>1</td>\n",
              "    </tr>\n",
              "    <tr>\n",
              "      <th>999</th>\n",
              "      <td>A</td>\n",
              "      <td>7</td>\n",
              "    </tr>\n",
              "  </tbody>\n",
              "</table>\n",
              "<p>1000 rows × 2 columns</p>\n",
              "</div>\n",
              "      <button class=\"colab-df-convert\" onclick=\"convertToInteractive('df-fc287fb7-8a15-434f-ab9b-ba1058f55afe')\"\n",
              "              title=\"Convert this dataframe to an interactive table.\"\n",
              "              style=\"display:none;\">\n",
              "        \n",
              "  <svg xmlns=\"http://www.w3.org/2000/svg\" height=\"24px\"viewBox=\"0 0 24 24\"\n",
              "       width=\"24px\">\n",
              "    <path d=\"M0 0h24v24H0V0z\" fill=\"none\"/>\n",
              "    <path d=\"M18.56 5.44l.94 2.06.94-2.06 2.06-.94-2.06-.94-.94-2.06-.94 2.06-2.06.94zm-11 1L8.5 8.5l.94-2.06 2.06-.94-2.06-.94L8.5 2.5l-.94 2.06-2.06.94zm10 10l.94 2.06.94-2.06 2.06-.94-2.06-.94-.94-2.06-.94 2.06-2.06.94z\"/><path d=\"M17.41 7.96l-1.37-1.37c-.4-.4-.92-.59-1.43-.59-.52 0-1.04.2-1.43.59L10.3 9.45l-7.72 7.72c-.78.78-.78 2.05 0 2.83L4 21.41c.39.39.9.59 1.41.59.51 0 1.02-.2 1.41-.59l7.78-7.78 2.81-2.81c.8-.78.8-2.07 0-2.86zM5.41 20L4 18.59l7.72-7.72 1.47 1.35L5.41 20z\"/>\n",
              "  </svg>\n",
              "      </button>\n",
              "      \n",
              "  <style>\n",
              "    .colab-df-container {\n",
              "      display:flex;\n",
              "      flex-wrap:wrap;\n",
              "      gap: 12px;\n",
              "    }\n",
              "\n",
              "    .colab-df-convert {\n",
              "      background-color: #E8F0FE;\n",
              "      border: none;\n",
              "      border-radius: 50%;\n",
              "      cursor: pointer;\n",
              "      display: none;\n",
              "      fill: #1967D2;\n",
              "      height: 32px;\n",
              "      padding: 0 0 0 0;\n",
              "      width: 32px;\n",
              "    }\n",
              "\n",
              "    .colab-df-convert:hover {\n",
              "      background-color: #E2EBFA;\n",
              "      box-shadow: 0px 1px 2px rgba(60, 64, 67, 0.3), 0px 1px 3px 1px rgba(60, 64, 67, 0.15);\n",
              "      fill: #174EA6;\n",
              "    }\n",
              "\n",
              "    [theme=dark] .colab-df-convert {\n",
              "      background-color: #3B4455;\n",
              "      fill: #D2E3FC;\n",
              "    }\n",
              "\n",
              "    [theme=dark] .colab-df-convert:hover {\n",
              "      background-color: #434B5C;\n",
              "      box-shadow: 0px 1px 3px 1px rgba(0, 0, 0, 0.15);\n",
              "      filter: drop-shadow(0px 1px 2px rgba(0, 0, 0, 0.3));\n",
              "      fill: #FFFFFF;\n",
              "    }\n",
              "  </style>\n",
              "\n",
              "      <script>\n",
              "        const buttonEl =\n",
              "          document.querySelector('#df-fc287fb7-8a15-434f-ab9b-ba1058f55afe button.colab-df-convert');\n",
              "        buttonEl.style.display =\n",
              "          google.colab.kernel.accessAllowed ? 'block' : 'none';\n",
              "\n",
              "        async function convertToInteractive(key) {\n",
              "          const element = document.querySelector('#df-fc287fb7-8a15-434f-ab9b-ba1058f55afe');\n",
              "          const dataTable =\n",
              "            await google.colab.kernel.invokeFunction('convertToInteractive',\n",
              "                                                     [key], {});\n",
              "          if (!dataTable) return;\n",
              "\n",
              "          const docLinkHtml = 'Like what you see? Visit the ' +\n",
              "            '<a target=\"_blank\" href=https://colab.research.google.com/notebooks/data_table.ipynb>data table notebook</a>'\n",
              "            + ' to learn more about interactive tables.';\n",
              "          element.innerHTML = '';\n",
              "          dataTable['output_type'] = 'display_data';\n",
              "          await google.colab.output.renderOutput(dataTable, element);\n",
              "          const docLink = document.createElement('div');\n",
              "          docLink.innerHTML = docLinkHtml;\n",
              "          element.appendChild(docLink);\n",
              "        }\n",
              "      </script>\n",
              "    </div>\n",
              "  </div>\n",
              "  "
            ]
          },
          "metadata": {},
          "execution_count": 6
        }
      ]
    },
    {
      "cell_type": "markdown",
      "source": [
        "Setelah di visualisasikan ternyata pelanggan di branch A banyak membeli barang dengan quantity 5, dan di Branch B customer mendominasi membeli dengan 3-4, dan pada Branch C  rerata pelanggan banyak membeli dengan quantity 1 dan 10.\n"
      ],
      "metadata": {
        "id": "5qv_QuHn5O5d"
      }
    },
    {
      "cell_type": "code",
      "source": [
        "#pandas built in visualization\n",
        "penjualan['Quantity'].hist(by=penjualan['Branch'])"
      ],
      "metadata": {
        "id": "PbAljDMCcD8g",
        "colab": {
          "base_uri": "https://localhost:8080/",
          "height": 372
        },
        "outputId": "026fba92-22ba-4339-8af2-482d891bf379"
      },
      "execution_count": 7,
      "outputs": [
        {
          "output_type": "execute_result",
          "data": {
            "text/plain": [
              "array([[<matplotlib.axes._subplots.AxesSubplot object at 0x7fd67d9d1e80>,\n",
              "        <matplotlib.axes._subplots.AxesSubplot object at 0x7fd67d931310>],\n",
              "       [<matplotlib.axes._subplots.AxesSubplot object at 0x7fd67d960730>,\n",
              "        <matplotlib.axes._subplots.AxesSubplot object at 0x7fd67d90bb50>]],\n",
              "      dtype=object)"
            ]
          },
          "metadata": {},
          "execution_count": 7
        },
        {
          "output_type": "display_data",
          "data": {
            "text/plain": [
              "<Figure size 432x288 with 4 Axes>"
            ],
            "image/png": "[encoded data removed]"
          },
          "metadata": {
            "needs_background": "light"
          }
        }
      ]
    },
    {
      "cell_type": "code",
      "source": [
        "penjualan['Quantity'].hist(by=penjualan['Branch'], layout=(1,5), figsize=(16,2))"
      ],
      "metadata": {
        "id": "ZrV-_iLXcTP6",
        "colab": {
          "base_uri": "https://localhost:8080/",
          "height": 291
        },
        "outputId": "24638689-b5a7-44cf-e01a-d8c0a14c81c4"
      },
      "execution_count": 8,
      "outputs": [
        {
          "output_type": "execute_result",
          "data": {
            "text/plain": [
              "array([<matplotlib.axes._subplots.AxesSubplot object at 0x7fd67d80dd30>,\n",
              "       <matplotlib.axes._subplots.AxesSubplot object at 0x7fd67d84c670>,\n",
              "       <matplotlib.axes._subplots.AxesSubplot object at 0x7fd67d35fc40>,\n",
              "       <matplotlib.axes._subplots.AxesSubplot object at 0x7fd67d2dc790>,\n",
              "       <matplotlib.axes._subplots.AxesSubplot object at 0x7fd67d2fcca0>],\n",
              "      dtype=object)"
            ]
          },
          "metadata": {},
          "execution_count": 8
        },
        {
          "output_type": "display_data",
          "data": {
            "text/plain": [
              "<Figure size 1152x144 with 5 Axes>"
            ],
            "image/png": "[encoded data removed]"
          },
          "metadata": {
            "needs_background": "light"
          }
        }
      ]
    },
    {
      "cell_type": "markdown",
      "source": [
        "Kita disini mencari nilai rating tertinggi yg diberikan customer untuk pelayanan pembelian di supermarket\n",
        "Dan didapatkan rating 10 pada 5 invoice id yang memberikan rating, cabang C 1 rating 10, cabang B 3 rating 10 dan menjadi cabang terbanyak dengan rating 10, kemudian cabang A 1 rating 10."
      ],
      "metadata": {
        "id": "HPw47Aaw6DOg"
      }
    },
    {
      "cell_type": "code",
      "source": [
        "#melihat rating tertinggi\n",
        "df[df['Rating'] == df['Rating'].max()]"
      ],
      "metadata": {
        "id": "bInWuE4jeieK",
        "colab": {
          "base_uri": "https://localhost:8080/",
          "height": 354
        },
        "outputId": "dc1815da-5880-4c87-a742-db54c5b219dd"
      },
      "execution_count": 9,
      "outputs": [
        {
          "output_type": "execute_result",
          "data": {
            "text/plain": [
              "      Invoice ID Branch       City Customer type  Gender  \\\n",
              "60   285-68-5083      C  Naypyitaw        Member  Female   \n",
              "62   347-34-2234      B   Mandalay        Member  Female   \n",
              "159  423-57-2993      B   Mandalay        Normal    Male   \n",
              "387  725-56-0833      A     Yangon        Normal  Female   \n",
              "853  866-70-2814      B   Mandalay        Normal  Female   \n",
              "\n",
              "               Product line  Unit price  Quantity   Tax 5%     Total  \\\n",
              "60        Sports and travel       24.74         3   3.7110   77.9310   \n",
              "62        Sports and travel       55.07         9  24.7815  520.4115   \n",
              "159       Sports and travel       93.39         6  28.0170  588.3570   \n",
              "387       Health and beauty       32.32        10  16.1600  339.3600   \n",
              "853  Electronic accessories       52.79        10  26.3950  554.2950   \n",
              "\n",
              "          Date   Time      Payment    cogs  gross margin percentage  \\\n",
              "60   2/15/2019  17:47  Credit card   74.22                 4.761905   \n",
              "62    2/3/2019  13:40      Ewallet  495.63                 4.761905   \n",
              "159  3/27/2019  19:18      Ewallet  560.34                 4.761905   \n",
              "387  2/20/2019  16:49  Credit card  323.20                 4.761905   \n",
              "853  2/25/2019  11:58      Ewallet  527.90                 4.761905   \n",
              "\n",
              "     gross income  Rating  \n",
              "60         3.7110    10.0  \n",
              "62        24.7815    10.0  \n",
              "159       28.0170    10.0  \n",
              "387       16.1600    10.0  \n",
              "853       26.3950    10.0  "
            ],
            "text/html": [
              "\n",
              "  <div id=\"df-a0a5145c-dfdb-4c86-8a69-0728f7520214\">\n",
              "    <div class=\"colab-df-container\">\n",
              "      <div>\n",
              "<style scoped>\n",
              "    .dataframe tbody tr th:only-of-type {\n",
              "        vertical-align: middle;\n",
              "    }\n",
              "\n",
              "    .dataframe tbody tr th {\n",
              "        vertical-align: top;\n",
              "    }\n",
              "\n",
              "    .dataframe thead th {\n",
              "        text-align: right;\n",
              "    }\n",
              "</style>\n",
              "<table border=\"1\" class=\"dataframe\">\n",
              "  <thead>\n",
              "    <tr style=\"text-align: right;\">\n",
              "      <th></th>\n",
              "      <th>Invoice ID</th>\n",
              "      <th>Branch</th>\n",
              "      <th>City</th>\n",
              "      <th>Customer type</th>\n",
              "      <th>Gender</th>\n",
              "      <th>Product line</th>\n",
              "      <th>Unit price</th>\n",
              "      <th>Quantity</th>\n",
              "      <th>Tax 5%</th>\n",
              "      <th>Total</th>\n",
              "      <th>Date</th>\n",
              "      <th>Time</th>\n",
              "      <th>Payment</th>\n",
              "      <th>cogs</th>\n",
              "      <th>gross margin percentage</th>\n",
              "      <th>gross income</th>\n",
              "      <th>Rating</th>\n",
              "    </tr>\n",
              "  </thead>\n",
              "  <tbody>\n",
              "    <tr>\n",
              "      <th>60</th>\n",
              "      <td>285-68-5083</td>\n",
              "      <td>C</td>\n",
              "      <td>Naypyitaw</td>\n",
              "      <td>Member</td>\n",
              "      <td>Female</td>\n",
              "      <td>Sports and travel</td>\n",
              "      <td>24.74</td>\n",
              "      <td>3</td>\n",
              "      <td>3.7110</td>\n",
              "      <td>77.9310</td>\n",
              "      <td>2/15/2019</td>\n",
              "      <td>17:47</td>\n",
              "      <td>Credit card</td>\n",
              "      <td>74.22</td>\n",
              "      <td>4.761905</td>\n",
              "      <td>3.7110</td>\n",
              "      <td>10.0</td>\n",
              "    </tr>\n",
              "    <tr>\n",
              "      <th>62</th>\n",
              "      <td>347-34-2234</td>\n",
              "      <td>B</td>\n",
              "      <td>Mandalay</td>\n",
              "      <td>Member</td>\n",
              "      <td>Female</td>\n",
              "      <td>Sports and travel</td>\n",
              "      <td>55.07</td>\n",
              "      <td>9</td>\n",
              "      <td>24.7815</td>\n",
              "      <td>520.4115</td>\n",
              "      <td>2/3/2019</td>\n",
              "      <td>13:40</td>\n",
              "      <td>Ewallet</td>\n",
              "      <td>495.63</td>\n",
              "      <td>4.761905</td>\n",
              "      <td>24.7815</td>\n",
              "      <td>10.0</td>\n",
              "    </tr>\n",
              "    <tr>\n",
              "      <th>159</th>\n",
              "      <td>423-57-2993</td>\n",
              "      <td>B</td>\n",
              "      <td>Mandalay</td>\n",
              "      <td>Normal</td>\n",
              "      <td>Male</td>\n",
              "      <td>Sports and travel</td>\n",
              "      <td>93.39</td>\n",
              "      <td>6</td>\n",
              "      <td>28.0170</td>\n",
              "      <td>588.3570</td>\n",
              "      <td>3/27/2019</td>\n",
              "      <td>19:18</td>\n",
              "      <td>Ewallet</td>\n",
              "      <td>560.34</td>\n",
              "      <td>4.761905</td>\n",
              "      <td>28.0170</td>\n",
              "      <td>10.0</td>\n",
              "    </tr>\n",
              "    <tr>\n",
              "      <th>387</th>\n",
              "      <td>725-56-0833</td>\n",
              "      <td>A</td>\n",
              "      <td>Yangon</td>\n",
              "      <td>Normal</td>\n",
              "      <td>Female</td>\n",
              "      <td>Health and beauty</td>\n",
              "      <td>32.32</td>\n",
              "      <td>10</td>\n",
              "      <td>16.1600</td>\n",
              "      <td>339.3600</td>\n",
              "      <td>2/20/2019</td>\n",
              "      <td>16:49</td>\n",
              "      <td>Credit card</td>\n",
              "      <td>323.20</td>\n",
              "      <td>4.761905</td>\n",
              "      <td>16.1600</td>\n",
              "      <td>10.0</td>\n",
              "    </tr>\n",
              "    <tr>\n",
              "      <th>853</th>\n",
              "      <td>866-70-2814</td>\n",
              "      <td>B</td>\n",
              "      <td>Mandalay</td>\n",
              "      <td>Normal</td>\n",
              "      <td>Female</td>\n",
              "      <td>Electronic accessories</td>\n",
              "      <td>52.79</td>\n",
              "      <td>10</td>\n",
              "      <td>26.3950</td>\n",
              "      <td>554.2950</td>\n",
              "      <td>2/25/2019</td>\n",
              "      <td>11:58</td>\n",
              "      <td>Ewallet</td>\n",
              "      <td>527.90</td>\n",
              "      <td>4.761905</td>\n",
              "      <td>26.3950</td>\n",
              "      <td>10.0</td>\n",
              "    </tr>\n",
              "  </tbody>\n",
              "</table>\n",
              "</div>\n",
              "      <button class=\"colab-df-convert\" onclick=\"convertToInteractive('df-a0a5145c-dfdb-4c86-8a69-0728f7520214')\"\n",
              "              title=\"Convert this dataframe to an interactive table.\"\n",
              "              style=\"display:none;\">\n",
              "        \n",
              "  <svg xmlns=\"http://www.w3.org/2000/svg\" height=\"24px\"viewBox=\"0 0 24 24\"\n",
              "       width=\"24px\">\n",
              "    <path d=\"M0 0h24v24H0V0z\" fill=\"none\"/>\n",
              "    <path d=\"M18.56 5.44l.94 2.06.94-2.06 2.06-.94-2.06-.94-.94-2.06-.94 2.06-2.06.94zm-11 1L8.5 8.5l.94-2.06 2.06-.94-2.06-.94L8.5 2.5l-.94 2.06-2.06.94zm10 10l.94 2.06.94-2.06 2.06-.94-2.06-.94-.94-2.06-.94 2.06-2.06.94z\"/><path d=\"M17.41 7.96l-1.37-1.37c-.4-.4-.92-.59-1.43-.59-.52 0-1.04.2-1.43.59L10.3 9.45l-7.72 7.72c-.78.78-.78 2.05 0 2.83L4 21.41c.39.39.9.59 1.41.59.51 0 1.02-.2 1.41-.59l7.78-7.78 2.81-2.81c.8-.78.8-2.07 0-2.86zM5.41 20L4 18.59l7.72-7.72 1.47 1.35L5.41 20z\"/>\n",
              "  </svg>\n",
              "      </button>\n",
              "      \n",
              "  <style>\n",
              "    .colab-df-container {\n",
              "      display:flex;\n",
              "      flex-wrap:wrap;\n",
              "      gap: 12px;\n",
              "    }\n",
              "\n",
              "    .colab-df-convert {\n",
              "      background-color: #E8F0FE;\n",
              "      border: none;\n",
              "      border-radius: 50%;\n",
              "      cursor: pointer;\n",
              "      display: none;\n",
              "      fill: #1967D2;\n",
              "      height: 32px;\n",
              "      padding: 0 0 0 0;\n",
              "      width: 32px;\n",
              "    }\n",
              "\n",
              "    .colab-df-convert:hover {\n",
              "      background-color: #E2EBFA;\n",
              "      box-shadow: 0px 1px 2px rgba(60, 64, 67, 0.3), 0px 1px 3px 1px rgba(60, 64, 67, 0.15);\n",
              "      fill: #174EA6;\n",
              "    }\n",
              "\n",
              "    [theme=dark] .colab-df-convert {\n",
              "      background-color: #3B4455;\n",
              "      fill: #D2E3FC;\n",
              "    }\n",
              "\n",
              "    [theme=dark] .colab-df-convert:hover {\n",
              "      background-color: #434B5C;\n",
              "      box-shadow: 0px 1px 3px 1px rgba(0, 0, 0, 0.15);\n",
              "      filter: drop-shadow(0px 1px 2px rgba(0, 0, 0, 0.3));\n",
              "      fill: #FFFFFF;\n",
              "    }\n",
              "  </style>\n",
              "\n",
              "      <script>\n",
              "        const buttonEl =\n",
              "          document.querySelector('#df-a0a5145c-dfdb-4c86-8a69-0728f7520214 button.colab-df-convert');\n",
              "        buttonEl.style.display =\n",
              "          google.colab.kernel.accessAllowed ? 'block' : 'none';\n",
              "\n",
              "        async function convertToInteractive(key) {\n",
              "          const element = document.querySelector('#df-a0a5145c-dfdb-4c86-8a69-0728f7520214');\n",
              "          const dataTable =\n",
              "            await google.colab.kernel.invokeFunction('convertToInteractive',\n",
              "                                                     [key], {});\n",
              "          if (!dataTable) return;\n",
              "\n",
              "          const docLinkHtml = 'Like what you see? Visit the ' +\n",
              "            '<a target=\"_blank\" href=https://colab.research.google.com/notebooks/data_table.ipynb>data table notebook</a>'\n",
              "            + ' to learn more about interactive tables.';\n",
              "          element.innerHTML = '';\n",
              "          dataTable['output_type'] = 'display_data';\n",
              "          await google.colab.output.renderOutput(dataTable, element);\n",
              "          const docLink = document.createElement('div');\n",
              "          docLink.innerHTML = docLinkHtml;\n",
              "          element.appendChild(docLink);\n",
              "        }\n",
              "      </script>\n",
              "    </div>\n",
              "  </div>\n",
              "  "
            ]
          },
          "metadata": {},
          "execution_count": 9
        }
      ]
    },
    {
      "cell_type": "markdown",
      "source": [
        "Disini mengambil tabel product line dan quantity untuk melihat penjualan product\n",
        "\n"
      ],
      "metadata": {
        "id": "5oxYR6Dr_bDT"
      }
    },
    {
      "cell_type": "code",
      "source": [
        "#mengambil tabel product line dan quantity\n",
        "penjualan_product = df[['Product line','Quantity']]\n",
        "\n",
        "product = ['Electronic accessories','BFashion accessories','Food and beverages', 'Health and beauty', 'Home and lifestyle', 'Sports and travel']\n",
        "penjualan_product = penjualan_product[ penjualan_product['Product line'].isin(product)  ]\n",
        "\n",
        "penjualan_product"
      ],
      "metadata": {
        "id": "z8npPr3JgOB9",
        "colab": {
          "base_uri": "https://localhost:8080/",
          "height": 424
        },
        "outputId": "93fc95d3-e8f0-4a58-e6ec-cf7d9c4b5b61"
      },
      "execution_count": 10,
      "outputs": [
        {
          "output_type": "execute_result",
          "data": {
            "text/plain": [
              "               Product line  Quantity\n",
              "0         Health and beauty         7\n",
              "1    Electronic accessories         5\n",
              "2        Home and lifestyle         7\n",
              "3         Health and beauty         8\n",
              "4         Sports and travel         7\n",
              "..                      ...       ...\n",
              "994  Electronic accessories         1\n",
              "995       Health and beauty         1\n",
              "996      Home and lifestyle        10\n",
              "997      Food and beverages         1\n",
              "998      Home and lifestyle         1\n",
              "\n",
              "[822 rows x 2 columns]"
            ],
            "text/html": [
              "\n",
              "  <div id=\"df-a8f6f198-b4ae-4d97-a52f-decf7a5b037b\">\n",
              "    <div class=\"colab-df-container\">\n",
              "      <div>\n",
              "<style scoped>\n",
              "    .dataframe tbody tr th:only-of-type {\n",
              "        vertical-align: middle;\n",
              "    }\n",
              "\n",
              "    .dataframe tbody tr th {\n",
              "        vertical-align: top;\n",
              "    }\n",
              "\n",
              "    .dataframe thead th {\n",
              "        text-align: right;\n",
              "    }\n",
              "</style>\n",
              "<table border=\"1\" class=\"dataframe\">\n",
              "  <thead>\n",
              "    <tr style=\"text-align: right;\">\n",
              "      <th></th>\n",
              "      <th>Product line</th>\n",
              "      <th>Quantity</th>\n",
              "    </tr>\n",
              "  </thead>\n",
              "  <tbody>\n",
              "    <tr>\n",
              "      <th>0</th>\n",
              "      <td>Health and beauty</td>\n",
              "      <td>7</td>\n",
              "    </tr>\n",
              "    <tr>\n",
              "      <th>1</th>\n",
              "      <td>Electronic accessories</td>\n",
              "      <td>5</td>\n",
              "    </tr>\n",
              "    <tr>\n",
              "      <th>2</th>\n",
              "      <td>Home and lifestyle</td>\n",
              "      <td>7</td>\n",
              "    </tr>\n",
              "    <tr>\n",
              "      <th>3</th>\n",
              "      <td>Health and beauty</td>\n",
              "      <td>8</td>\n",
              "    </tr>\n",
              "    <tr>\n",
              "      <th>4</th>\n",
              "      <td>Sports and travel</td>\n",
              "      <td>7</td>\n",
              "    </tr>\n",
              "    <tr>\n",
              "      <th>...</th>\n",
              "      <td>...</td>\n",
              "      <td>...</td>\n",
              "    </tr>\n",
              "    <tr>\n",
              "      <th>994</th>\n",
              "      <td>Electronic accessories</td>\n",
              "      <td>1</td>\n",
              "    </tr>\n",
              "    <tr>\n",
              "      <th>995</th>\n",
              "      <td>Health and beauty</td>\n",
              "      <td>1</td>\n",
              "    </tr>\n",
              "    <tr>\n",
              "      <th>996</th>\n",
              "      <td>Home and lifestyle</td>\n",
              "      <td>10</td>\n",
              "    </tr>\n",
              "    <tr>\n",
              "      <th>997</th>\n",
              "      <td>Food and beverages</td>\n",
              "      <td>1</td>\n",
              "    </tr>\n",
              "    <tr>\n",
              "      <th>998</th>\n",
              "      <td>Home and lifestyle</td>\n",
              "      <td>1</td>\n",
              "    </tr>\n",
              "  </tbody>\n",
              "</table>\n",
              "<p>822 rows × 2 columns</p>\n",
              "</div>\n",
              "      <button class=\"colab-df-convert\" onclick=\"convertToInteractive('df-a8f6f198-b4ae-4d97-a52f-decf7a5b037b')\"\n",
              "              title=\"Convert this dataframe to an interactive table.\"\n",
              "              style=\"display:none;\">\n",
              "        \n",
              "  <svg xmlns=\"http://www.w3.org/2000/svg\" height=\"24px\"viewBox=\"0 0 24 24\"\n",
              "       width=\"24px\">\n",
              "    <path d=\"M0 0h24v24H0V0z\" fill=\"none\"/>\n",
              "    <path d=\"M18.56 5.44l.94 2.06.94-2.06 2.06-.94-2.06-.94-.94-2.06-.94 2.06-2.06.94zm-11 1L8.5 8.5l.94-2.06 2.06-.94-2.06-.94L8.5 2.5l-.94 2.06-2.06.94zm10 10l.94 2.06.94-2.06 2.06-.94-2.06-.94-.94-2.06-.94 2.06-2.06.94z\"/><path d=\"M17.41 7.96l-1.37-1.37c-.4-.4-.92-.59-1.43-.59-.52 0-1.04.2-1.43.59L10.3 9.45l-7.72 7.72c-.78.78-.78 2.05 0 2.83L4 21.41c.39.39.9.59 1.41.59.51 0 1.02-.2 1.41-.59l7.78-7.78 2.81-2.81c.8-.78.8-2.07 0-2.86zM5.41 20L4 18.59l7.72-7.72 1.47 1.35L5.41 20z\"/>\n",
              "  </svg>\n",
              "      </button>\n",
              "      \n",
              "  <style>\n",
              "    .colab-df-container {\n",
              "      display:flex;\n",
              "      flex-wrap:wrap;\n",
              "      gap: 12px;\n",
              "    }\n",
              "\n",
              "    .colab-df-convert {\n",
              "      background-color: #E8F0FE;\n",
              "      border: none;\n",
              "      border-radius: 50%;\n",
              "      cursor: pointer;\n",
              "      display: none;\n",
              "      fill: #1967D2;\n",
              "      height: 32px;\n",
              "      padding: 0 0 0 0;\n",
              "      width: 32px;\n",
              "    }\n",
              "\n",
              "    .colab-df-convert:hover {\n",
              "      background-color: #E2EBFA;\n",
              "      box-shadow: 0px 1px 2px rgba(60, 64, 67, 0.3), 0px 1px 3px 1px rgba(60, 64, 67, 0.15);\n",
              "      fill: #174EA6;\n",
              "    }\n",
              "\n",
              "    [theme=dark] .colab-df-convert {\n",
              "      background-color: #3B4455;\n",
              "      fill: #D2E3FC;\n",
              "    }\n",
              "\n",
              "    [theme=dark] .colab-df-convert:hover {\n",
              "      background-color: #434B5C;\n",
              "      box-shadow: 0px 1px 3px 1px rgba(0, 0, 0, 0.15);\n",
              "      filter: drop-shadow(0px 1px 2px rgba(0, 0, 0, 0.3));\n",
              "      fill: #FFFFFF;\n",
              "    }\n",
              "  </style>\n",
              "\n",
              "      <script>\n",
              "        const buttonEl =\n",
              "          document.querySelector('#df-a8f6f198-b4ae-4d97-a52f-decf7a5b037b button.colab-df-convert');\n",
              "        buttonEl.style.display =\n",
              "          google.colab.kernel.accessAllowed ? 'block' : 'none';\n",
              "\n",
              "        async function convertToInteractive(key) {\n",
              "          const element = document.querySelector('#df-a8f6f198-b4ae-4d97-a52f-decf7a5b037b');\n",
              "          const dataTable =\n",
              "            await google.colab.kernel.invokeFunction('convertToInteractive',\n",
              "                                                     [key], {});\n",
              "          if (!dataTable) return;\n",
              "\n",
              "          const docLinkHtml = 'Like what you see? Visit the ' +\n",
              "            '<a target=\"_blank\" href=https://colab.research.google.com/notebooks/data_table.ipynb>data table notebook</a>'\n",
              "            + ' to learn more about interactive tables.';\n",
              "          element.innerHTML = '';\n",
              "          dataTable['output_type'] = 'display_data';\n",
              "          await google.colab.output.renderOutput(dataTable, element);\n",
              "          const docLink = document.createElement('div');\n",
              "          docLink.innerHTML = docLinkHtml;\n",
              "          element.appendChild(docLink);\n",
              "        }\n",
              "      </script>\n",
              "    </div>\n",
              "  </div>\n",
              "  "
            ]
          },
          "metadata": {},
          "execution_count": 10
        }
      ]
    },
    {
      "cell_type": "markdown",
      "source": [
        "Dari visualisasi histogram kita dapat melihat bahwa product home and lifestyle jarang dibeli dengan pembelian banyak, paling tinggi mereka membeli 5-6 produk untuk maksimal pembelian, sedangkan product line electronic accesories dan sports and travel mereka sering di beli dengan quantity terbanyak, food and beverages banyak dibeli dengan quantity 2-5 , dan health berauty banyak dibeli dengan quantity 5-6"
      ],
      "metadata": {
        "id": "2XvF2LotAEnP"
      }
    },
    {
      "cell_type": "code",
      "source": [
        "#visualization\n",
        "penjualan_product['Quantity'].hist(by=penjualan_product['Product line'], layout=(1,5), figsize=(16,2))"
      ],
      "metadata": {
        "id": "nwaaIHJeh5bu",
        "colab": {
          "base_uri": "https://localhost:8080/",
          "height": 291
        },
        "outputId": "ff0c150c-b961-4992-ea5c-99d7f73dd251"
      },
      "execution_count": 11,
      "outputs": [
        {
          "output_type": "execute_result",
          "data": {
            "text/plain": [
              "array([<matplotlib.axes._subplots.AxesSubplot object at 0x7fd67d217340>,\n",
              "       <matplotlib.axes._subplots.AxesSubplot object at 0x7fd67d1bafd0>,\n",
              "       <matplotlib.axes._subplots.AxesSubplot object at 0x7fd67d172430>,\n",
              "       <matplotlib.axes._subplots.AxesSubplot object at 0x7fd67d120820>,\n",
              "       <matplotlib.axes._subplots.AxesSubplot object at 0x7fd67d14bc10>],\n",
              "      dtype=object)"
            ]
          },
          "metadata": {},
          "execution_count": 11
        },
        {
          "output_type": "display_data",
          "data": {
            "text/plain": [
              "<Figure size 1152x144 with 5 Axes>"
            ],
            "image/png": "[encoded data removed]"
          },
          "metadata": {
            "needs_background": "light"
          }
        }
      ]
    },
    {
      "cell_type": "markdown",
      "source": [
        "Berapa jumlah uang yang di dapatkan?\n"
      ],
      "metadata": {
        "id": "Ix3fAgp80Qqn"
      }
    },
    {
      "cell_type": "code",
      "source": [
        "df['Unit price'].sum()"
      ],
      "metadata": {
        "id": "jfS1psCpz0iq",
        "colab": {
          "base_uri": "https://localhost:8080/"
        },
        "outputId": "e36aa71a-dff0-47ce-baf6-c2e865c662fe"
      },
      "execution_count": 12,
      "outputs": [
        {
          "output_type": "execute_result",
          "data": {
            "text/plain": [
              "55672.130000000005"
            ]
          },
          "metadata": {},
          "execution_count": 12
        }
      ]
    },
    {
      "cell_type": "markdown",
      "source": [
        "Untuk melihat kota dengan total pendapatan terbanyak kita dapat melihat dengan mengambil data city dan total"
      ],
      "metadata": {
        "id": "TV04sk8lBqCv"
      }
    },
    {
      "cell_type": "code",
      "source": [
        "kota_total = df[['Branch','Total']]\n",
        "\n",
        "city = ['A','B','C']\n",
        "kota_total = kota_total[ kota_total['Branch'].isin(city)]\n",
        "\n",
        "kota_total"
      ],
      "metadata": {
        "id": "vuKl6_EXLBXG",
        "colab": {
          "base_uri": "https://localhost:8080/",
          "height": 424
        },
        "outputId": "8f24e99e-81a2-4bf5-ea57-84b8c3ad5262"
      },
      "execution_count": 13,
      "outputs": [
        {
          "output_type": "execute_result",
          "data": {
            "text/plain": [
              "    Branch      Total\n",
              "0        A   548.9715\n",
              "1        C    80.2200\n",
              "2        A   340.5255\n",
              "3        A   489.0480\n",
              "4        A   634.3785\n",
              "..     ...        ...\n",
              "995      C    42.3675\n",
              "996      B  1022.4900\n",
              "997      A    33.4320\n",
              "998      A    69.1110\n",
              "999      A   649.2990\n",
              "\n",
              "[1000 rows x 2 columns]"
            ],
            "text/html": [
              "\n",
              "  <div id=\"df-c8f63b6d-5693-4bcd-97a9-4f3ab304f23e\">\n",
              "    <div class=\"colab-df-container\">\n",
              "      <div>\n",
              "<style scoped>\n",
              "    .dataframe tbody tr th:only-of-type {\n",
              "        vertical-align: middle;\n",
              "    }\n",
              "\n",
              "    .dataframe tbody tr th {\n",
              "        vertical-align: top;\n",
              "    }\n",
              "\n",
              "    .dataframe thead th {\n",
              "        text-align: right;\n",
              "    }\n",
              "</style>\n",
              "<table border=\"1\" class=\"dataframe\">\n",
              "  <thead>\n",
              "    <tr style=\"text-align: right;\">\n",
              "      <th></th>\n",
              "      <th>Branch</th>\n",
              "      <th>Total</th>\n",
              "    </tr>\n",
              "  </thead>\n",
              "  <tbody>\n",
              "    <tr>\n",
              "      <th>0</th>\n",
              "      <td>A</td>\n",
              "      <td>548.9715</td>\n",
              "    </tr>\n",
              "    <tr>\n",
              "      <th>1</th>\n",
              "      <td>C</td>\n",
              "      <td>80.2200</td>\n",
              "    </tr>\n",
              "    <tr>\n",
              "      <th>2</th>\n",
              "      <td>A</td>\n",
              "      <td>340.5255</td>\n",
              "    </tr>\n",
              "    <tr>\n",
              "      <th>3</th>\n",
              "      <td>A</td>\n",
              "      <td>489.0480</td>\n",
              "    </tr>\n",
              "    <tr>\n",
              "      <th>4</th>\n",
              "      <td>A</td>\n",
              "      <td>634.3785</td>\n",
              "    </tr>\n",
              "    <tr>\n",
              "      <th>...</th>\n",
              "      <td>...</td>\n",
              "      <td>...</td>\n",
              "    </tr>\n",
              "    <tr>\n",
              "      <th>995</th>\n",
              "      <td>C</td>\n",
              "      <td>42.3675</td>\n",
              "    </tr>\n",
              "    <tr>\n",
              "      <th>996</th>\n",
              "      <td>B</td>\n",
              "      <td>1022.4900</td>\n",
              "    </tr>\n",
              "    <tr>\n",
              "      <th>997</th>\n",
              "      <td>A</td>\n",
              "      <td>33.4320</td>\n",
              "    </tr>\n",
              "    <tr>\n",
              "      <th>998</th>\n",
              "      <td>A</td>\n",
              "      <td>69.1110</td>\n",
              "    </tr>\n",
              "    <tr>\n",
              "      <th>999</th>\n",
              "      <td>A</td>\n",
              "      <td>649.2990</td>\n",
              "    </tr>\n",
              "  </tbody>\n",
              "</table>\n",
              "<p>1000 rows × 2 columns</p>\n",
              "</div>\n",
              "      <button class=\"colab-df-convert\" onclick=\"convertToInteractive('df-c8f63b6d-5693-4bcd-97a9-4f3ab304f23e')\"\n",
              "              title=\"Convert this dataframe to an interactive table.\"\n",
              "              style=\"display:none;\">\n",
              "        \n",
              "  <svg xmlns=\"http://www.w3.org/2000/svg\" height=\"24px\"viewBox=\"0 0 24 24\"\n",
              "       width=\"24px\">\n",
              "    <path d=\"M0 0h24v24H0V0z\" fill=\"none\"/>\n",
              "    <path d=\"M18.56 5.44l.94 2.06.94-2.06 2.06-.94-2.06-.94-.94-2.06-.94 2.06-2.06.94zm-11 1L8.5 8.5l.94-2.06 2.06-.94-2.06-.94L8.5 2.5l-.94 2.06-2.06.94zm10 10l.94 2.06.94-2.06 2.06-.94-2.06-.94-.94-2.06-.94 2.06-2.06.94z\"/><path d=\"M17.41 7.96l-1.37-1.37c-.4-.4-.92-.59-1.43-.59-.52 0-1.04.2-1.43.59L10.3 9.45l-7.72 7.72c-.78.78-.78 2.05 0 2.83L4 21.41c.39.39.9.59 1.41.59.51 0 1.02-.2 1.41-.59l7.78-7.78 2.81-2.81c.8-.78.8-2.07 0-2.86zM5.41 20L4 18.59l7.72-7.72 1.47 1.35L5.41 20z\"/>\n",
              "  </svg>\n",
              "      </button>\n",
              "      \n",
              "  <style>\n",
              "    .colab-df-container {\n",
              "      display:flex;\n",
              "      flex-wrap:wrap;\n",
              "      gap: 12px;\n",
              "    }\n",
              "\n",
              "    .colab-df-convert {\n",
              "      background-color: #E8F0FE;\n",
              "      border: none;\n",
              "      border-radius: 50%;\n",
              "      cursor: pointer;\n",
              "      display: none;\n",
              "      fill: #1967D2;\n",
              "      height: 32px;\n",
              "      padding: 0 0 0 0;\n",
              "      width: 32px;\n",
              "    }\n",
              "\n",
              "    .colab-df-convert:hover {\n",
              "      background-color: #E2EBFA;\n",
              "      box-shadow: 0px 1px 2px rgba(60, 64, 67, 0.3), 0px 1px 3px 1px rgba(60, 64, 67, 0.15);\n",
              "      fill: #174EA6;\n",
              "    }\n",
              "\n",
              "    [theme=dark] .colab-df-convert {\n",
              "      background-color: #3B4455;\n",
              "      fill: #D2E3FC;\n",
              "    }\n",
              "\n",
              "    [theme=dark] .colab-df-convert:hover {\n",
              "      background-color: #434B5C;\n",
              "      box-shadow: 0px 1px 3px 1px rgba(0, 0, 0, 0.15);\n",
              "      filter: drop-shadow(0px 1px 2px rgba(0, 0, 0, 0.3));\n",
              "      fill: #FFFFFF;\n",
              "    }\n",
              "  </style>\n",
              "\n",
              "      <script>\n",
              "        const buttonEl =\n",
              "          document.querySelector('#df-c8f63b6d-5693-4bcd-97a9-4f3ab304f23e button.colab-df-convert');\n",
              "        buttonEl.style.display =\n",
              "          google.colab.kernel.accessAllowed ? 'block' : 'none';\n",
              "\n",
              "        async function convertToInteractive(key) {\n",
              "          const element = document.querySelector('#df-c8f63b6d-5693-4bcd-97a9-4f3ab304f23e');\n",
              "          const dataTable =\n",
              "            await google.colab.kernel.invokeFunction('convertToInteractive',\n",
              "                                                     [key], {});\n",
              "          if (!dataTable) return;\n",
              "\n",
              "          const docLinkHtml = 'Like what you see? Visit the ' +\n",
              "            '<a target=\"_blank\" href=https://colab.research.google.com/notebooks/data_table.ipynb>data table notebook</a>'\n",
              "            + ' to learn more about interactive tables.';\n",
              "          element.innerHTML = '';\n",
              "          dataTable['output_type'] = 'display_data';\n",
              "          await google.colab.output.renderOutput(dataTable, element);\n",
              "          const docLink = document.createElement('div');\n",
              "          docLink.innerHTML = docLinkHtml;\n",
              "          element.appendChild(docLink);\n",
              "        }\n",
              "      </script>\n",
              "    </div>\n",
              "  </div>\n",
              "  "
            ]
          },
          "metadata": {},
          "execution_count": 13
        }
      ]
    },
    {
      "cell_type": "markdown",
      "source": [
        "Setelah divisualisasikan kita mendapatkan bahwa Branch C  menjadi branch dengan total pendapatan paling tinggi"
      ],
      "metadata": {
        "id": "csw-og4ICA6I"
      }
    },
    {
      "cell_type": "code",
      "source": [
        "fig, ax = plt.subplots(figsize=(5,10))\n",
        "sns.barplot(x = 'Branch',\n",
        "            y = 'Total',\n",
        "            data = df,estimator=sum)\n",
        "\n",
        "plt.show()"
      ],
      "metadata": {
        "colab": {
          "base_uri": "https://localhost:8080/",
          "height": 606
        },
        "id": "bgQLDtA4Msud",
        "outputId": "d5acdaaf-5c79-4dc8-d612-679d6c6b13f4"
      },
      "execution_count": 14,
      "outputs": [
        {
          "output_type": "display_data",
          "data": {
            "text/plain": [
              "<Figure size 360x720 with 1 Axes>"
            ],
            "image/png": "[encoded data removed]"
          },
          "metadata": {
            "needs_background": "light"
          }
        }
      ]
    },
    {
      "cell_type": "markdown",
      "source": [
        "Disini kita coba visualisasikan total setiap tanggalnya. Dan dapat dilihat bahwa ternyata pada tanggal 9 bulan ke 3 supermarket ini mendapat penjualan terbanyak, dibuktikan bahwa total penjualan di tanggal tersebut tinggi"
      ],
      "metadata": {
        "id": "FE-59YLQEPf5"
      }
    },
    {
      "cell_type": "code",
      "source": [
        "fig, ax = plt.subplots(figsize=(80,30))\n",
        "sns.barplot(x = 'Total',\n",
        "            y = 'Date',\n",
        "            data = df,estimator=sum)\n",
        "\n",
        "plt.show()"
      ],
      "metadata": {
        "id": "wF94xeqHUNXE",
        "colab": {
          "base_uri": "https://localhost:8080/",
          "height": 1000
        },
        "outputId": "9a21d33a-9523-4875-9da0-0149703c3854"
      },
      "execution_count": 15,
      "outputs": [
        {
          "output_type": "display_data",
          "data": {
            "text/plain": [
              "<Figure size 5760x2160 with 1 Axes>"
            ],
            "image/png": "[encoded data removed]"
          },
          "metadata": {
            "needs_background": "light"
          }
        }
      ]
    },
    {
      "cell_type": "markdown",
      "source": [
        "Menghitung gmv dan dimasukan ke data tersebut"
      ],
      "metadata": {
        "id": "2hMsabCWFJwL"
      }
    },
    {
      "cell_type": "code",
      "source": [
        "df['gmv'] = df['Unit price']*df['Quantity']\n",
        "print('Ukuran dataset: %d baris dan %d kolom\\n' % df.shape)\n",
        "print('Lima data teratas: ')\n",
        "print(df.head())"
      ],
      "metadata": {
        "colab": {
          "base_uri": "https://localhost:8080/"
        },
        "id": "xNPDlJunFI2l",
        "outputId": "508cb48d-5248-487a-bc86-7d1ee4b74559"
      },
      "execution_count": 16,
      "outputs": [
        {
          "output_type": "stream",
          "name": "stdout",
          "text": [
            "Ukuran dataset: 1000 baris dan 18 kolom\n",
            "\n",
            "Lima data teratas: \n",
            "    Invoice ID Branch       City Customer type  Gender  \\\n",
            "0  750-67-8428      A     Yangon        Member  Female   \n",
            "1  226-31-3081      C  Naypyitaw        Normal  Female   \n",
            "2  631-41-3108      A     Yangon        Normal    Male   \n",
            "3  123-19-1176      A     Yangon        Member    Male   \n",
            "4  373-73-7910      A     Yangon        Normal    Male   \n",
            "\n",
            "             Product line  Unit price  Quantity   Tax 5%     Total       Date  \\\n",
            "0       Health and beauty       74.69         7  26.1415  548.9715   1/5/2019   \n",
            "1  Electronic accessories       15.28         5   3.8200   80.2200   3/8/2019   \n",
            "2      Home and lifestyle       46.33         7  16.2155  340.5255   3/3/2019   \n",
            "3       Health and beauty       58.22         8  23.2880  489.0480  1/27/2019   \n",
            "4       Sports and travel       86.31         7  30.2085  634.3785   2/8/2019   \n",
            "\n",
            "    Time      Payment    cogs  gross margin percentage  gross income  Rating  \\\n",
            "0  13:08      Ewallet  522.83                 4.761905       26.1415     9.1   \n",
            "1  10:29         Cash   76.40                 4.761905        3.8200     9.6   \n",
            "2  13:23  Credit card  324.31                 4.761905       16.2155     7.4   \n",
            "3  20:33      Ewallet  465.76                 4.761905       23.2880     8.4   \n",
            "4  10:37      Ewallet  604.17                 4.761905       30.2085     5.3   \n",
            "\n",
            "      gmv  \n",
            "0  522.83  \n",
            "1   76.40  \n",
            "2  324.31  \n",
            "3  465.76  \n",
            "4  604.17  \n"
          ]
        }
      ]
    },
    {
      "cell_type": "markdown",
      "source": [
        "Membuat line chart pertumbuhan GMV (Gross Merchandise Value)\n",
        "Setap bulannya\n",
        "Dan di dapatkan pertumbuhan GMV sempat menurun pada bulan kedua dan naik lagi dibulan ketiga"
      ],
      "metadata": {
        "id": "kdjJ0QBkRnU1"
      }
    },
    {
      "cell_type": "code",
      "source": [
        "df['month'] = df['Date'].apply(lambda x: datetime.datetime.strptime(x, \"%m/%d/%Y\").strftime('%Y/%m'))\n",
        "df['gmv'] = df['Unit price']*df['Quantity']\n",
        "\n",
        "monthly_amount = df.groupby('month')['gmv'].sum().reset_index()\n",
        "\n",
        "plt.plot(monthly_amount['month'], monthly_amount['gmv'])\n",
        "plt.title('Monthly GMV Year 2019', loc='center', pad=20, fontsize=20, color='blue')\n",
        "plt.xlabel('Order Month', fontsize=15)\n",
        "plt.ylabel('Total Amount', fontsize=15)\n",
        "plt.show()"
      ],
      "metadata": {
        "id": "GINoR9rgRsF5",
        "colab": {
          "base_uri": "https://localhost:8080/",
          "height": 319
        },
        "outputId": "0f3852d9-f39c-4a3c-c57d-f88753aaeafa"
      },
      "execution_count": 17,
      "outputs": [
        {
          "output_type": "display_data",
          "data": {
            "text/plain": [
              "<Figure size 432x288 with 1 Axes>"
            ],
            "image/png": "[encoded data removed]"
          },
          "metadata": {
            "needs_background": "light"
          }
        }
      ]
    },
    {
      "cell_type": "markdown",
      "source": [
        "Melihat pertumbuhan GMV setiap bulan pada aspek product,produk electronic accesories dan health and beauty menurun sedikit namun product ini menjadi product yg stabil setiap bulannya pada gmv, sedangkan untuk home and life style, sport and travel pernah menurun cukup signifikan namun dapat meningkat sangat tinggi, dan untuk produk food and beverages and fashion accesories dia cukup meningkat tinggi di bulan kedua namun mengalami penurunan tapi tidak cukup tinggi"
      ],
      "metadata": {
        "id": "7hwfRhF8FXfN"
      }
    },
    {
      "cell_type": "code",
      "source": [
        "#membuat kolom gmv\n",
        "df['gmv'] = df['Unit price']*df['Quantity']\n",
        "\n",
        "# Buat Multi-Line Chart\n",
        "df.groupby(['month', 'Product line'])['gmv'].sum().unstack().plot()\n",
        "plt.title('Monthly GMV Year - Breakdown by Product line', loc='center', pad=30, fontsize = 20, color ='blue')\n",
        "plt.xlabel('Order Month', fontsize=15)\n",
        "plt.ylabel('Total Amount', fontsize = 15)\n",
        "plt.grid(color = 'darkgray', linestyle=':', linewidth = 0.5)\n",
        "plt.ylim(ymin=0)\n",
        "labels, locations = plt.yticks()\n",
        "plt.yticks(labels, (labels).astype(int))\n",
        "plt.gcf().set_size_inches(10, 5)\n",
        "plt.tight_layout()\n",
        "plt.show()"
      ],
      "metadata": {
        "colab": {
          "base_uri": "https://localhost:8080/",
          "height": 369
        },
        "id": "Fus8fUzynt_S",
        "outputId": "86381e00-2783-4cf8-ce89-bc5d186983b1"
      },
      "execution_count": 18,
      "outputs": [
        {
          "output_type": "display_data",
          "data": {
            "text/plain": [
              "<Figure size 720x360 with 1 Axes>"
            ],
            "image/png": "[encoded data removed]"
          },
          "metadata": {
            "needs_background": "light"
          }
        }
      ]
    },
    {
      "cell_type": "markdown",
      "source": [
        "GMV untuk aspek Branch, GMV branch B cukup stabil, sedangkan GMV branch A dan C pernah menurun namun naik kembali"
      ],
      "metadata": {
        "id": "IwRAxLLAGcEH"
      }
    },
    {
      "cell_type": "code",
      "source": [
        "#membuat kolom gmv\n",
        "df['gmv'] = df['Unit price']*df['Quantity']\n",
        "\n",
        "# Buat Multi-Line Chart\n",
        "df.groupby(['month', 'Branch'])['gmv'].sum().unstack().plot()\n",
        "plt.title('Monthly GMV Year - Breakdown by Branch', loc='center', pad=30, fontsize = 20, color ='blue')\n",
        "plt.xlabel('Order Month', fontsize=15)\n",
        "plt.ylabel('Total Amount', fontsize = 15)\n",
        "plt.grid(color = 'darkgray', linestyle=':', linewidth = 0.5)\n",
        "plt.ylim(ymin=0)\n",
        "labels, locations = plt.yticks()\n",
        "plt.yticks(labels, (labels).astype(int))\n",
        "plt.gcf().set_size_inches(10, 5)\n",
        "plt.tight_layout()\n",
        "plt.show()"
      ],
      "metadata": {
        "colab": {
          "base_uri": "https://localhost:8080/",
          "height": 369
        },
        "id": "tLkQR_EmyTeM",
        "outputId": "14442fd1-5bc0-43d7-a004-2572643799c1"
      },
      "execution_count": 19,
      "outputs": [
        {
          "output_type": "display_data",
          "data": {
            "text/plain": [
              "<Figure size 720x360 with 1 Axes>"
            ],
            "image/png": "[encoded data removed]"
          },
          "metadata": {
            "needs_background": "light"
          }
        }
      ]
    },
    {
      "cell_type": "markdown",
      "source": [
        "Insight keseluruhan yang bisa di dapatkan dari data yang sudah di explore dan divisualisasikan, branch C menjadi branch dengan total penjualan terbanyak, sehingga untuk branch A dan branch B dapat meningkatkan penjualan mereka. Dan juga, didapatkan bahwa pertumbuhan GMV setiap bulan nya, mengalami penurunan dibulan kedua baik dari sisi Product Line ataupun Kinerja setiap Branch, Dan juga rating yg didapatkan oleh supermarket berada di kisaran 6-7 pelanggan memberikan rating. "
      ],
      "metadata": {
        "id": "YGcVg3Oo4ybz"
      }
    }
  ]
}